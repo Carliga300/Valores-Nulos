{
 "cells": [
  {
   "cell_type": "code",
   "execution_count": 1,
   "metadata": {},
   "outputs": [],
   "source": [
    "import pandas as pd\n",
    "import numpy as np\n",
    "import matplotlib.pyplot as plt"
   ]
  },
  {
   "cell_type": "code",
   "execution_count": 2,
   "metadata": {},
   "outputs": [
    {
     "data": {
      "text/html": [
       "<div>\n",
       "<style scoped>\n",
       "    .dataframe tbody tr th:only-of-type {\n",
       "        vertical-align: middle;\n",
       "    }\n",
       "\n",
       "    .dataframe tbody tr th {\n",
       "        vertical-align: top;\n",
       "    }\n",
       "\n",
       "    .dataframe thead th {\n",
       "        text-align: right;\n",
       "    }\n",
       "</style>\n",
       "<table border=\"1\" class=\"dataframe\">\n",
       "  <thead>\n",
       "    <tr style=\"text-align: right;\">\n",
       "      <th></th>\n",
       "      <th>id</th>\n",
       "      <th>listing_url</th>\n",
       "      <th>scrape_id</th>\n",
       "      <th>last_scraped</th>\n",
       "      <th>source</th>\n",
       "      <th>name</th>\n",
       "      <th>description</th>\n",
       "      <th>neighborhood_overview</th>\n",
       "      <th>picture_url</th>\n",
       "      <th>host_id</th>\n",
       "      <th>...</th>\n",
       "      <th>review_scores_communication</th>\n",
       "      <th>review_scores_location</th>\n",
       "      <th>review_scores_value</th>\n",
       "      <th>license</th>\n",
       "      <th>instant_bookable</th>\n",
       "      <th>calculated_host_listings_count</th>\n",
       "      <th>calculated_host_listings_count_entire_homes</th>\n",
       "      <th>calculated_host_listings_count_private_rooms</th>\n",
       "      <th>calculated_host_listings_count_shared_rooms</th>\n",
       "      <th>reviews_per_month</th>\n",
       "    </tr>\n",
       "  </thead>\n",
       "  <tbody>\n",
       "    <tr>\n",
       "      <th>0</th>\n",
       "      <td>197677</td>\n",
       "      <td>https://www.airbnb.com/rooms/197677</td>\n",
       "      <td>20240927024131</td>\n",
       "      <td>2024-09-27</td>\n",
       "      <td>city scrape</td>\n",
       "      <td>Oshiage Holiday Apartment</td>\n",
       "      <td>NaN</td>\n",
       "      <td>NaN</td>\n",
       "      <td>https://a0.muscache.com/pictures/38437056/d27f...</td>\n",
       "      <td>964081</td>\n",
       "      <td>...</td>\n",
       "      <td>4.83</td>\n",
       "      <td>4.55</td>\n",
       "      <td>4.80</td>\n",
       "      <td>M130003350</td>\n",
       "      <td>f</td>\n",
       "      <td>1</td>\n",
       "      <td>1</td>\n",
       "      <td>0</td>\n",
       "      <td>0</td>\n",
       "      <td>1.14</td>\n",
       "    </tr>\n",
       "    <tr>\n",
       "      <th>1</th>\n",
       "      <td>776070</td>\n",
       "      <td>https://www.airbnb.com/rooms/776070</td>\n",
       "      <td>20240927024131</td>\n",
       "      <td>2024-09-27</td>\n",
       "      <td>city scrape</td>\n",
       "      <td>Kero-kero house room 1</td>\n",
       "      <td>We have been in airbnb since 2011 and it has g...</td>\n",
       "      <td>We love Nishinippori because is nearer to Toky...</td>\n",
       "      <td>https://a0.muscache.com/pictures/efd9f039-dbd2...</td>\n",
       "      <td>801494</td>\n",
       "      <td>...</td>\n",
       "      <td>4.98</td>\n",
       "      <td>4.84</td>\n",
       "      <td>4.92</td>\n",
       "      <td>M130000243</td>\n",
       "      <td>f</td>\n",
       "      <td>1</td>\n",
       "      <td>0</td>\n",
       "      <td>1</td>\n",
       "      <td>0</td>\n",
       "      <td>1.79</td>\n",
       "    </tr>\n",
       "    <tr>\n",
       "      <th>2</th>\n",
       "      <td>905944</td>\n",
       "      <td>https://www.airbnb.com/rooms/905944</td>\n",
       "      <td>20240927024131</td>\n",
       "      <td>2024-09-27</td>\n",
       "      <td>city scrape</td>\n",
       "      <td>4F Spacious Apartment in Shinjuku / Shibuya Tokyo</td>\n",
       "      <td>NEWLY RENOVATED property entirely for you &amp; yo...</td>\n",
       "      <td>Hatagaya is a great neighborhood located 4 min...</td>\n",
       "      <td>https://a0.muscache.com/pictures/miso/Hosting-...</td>\n",
       "      <td>4847803</td>\n",
       "      <td>...</td>\n",
       "      <td>4.92</td>\n",
       "      <td>4.80</td>\n",
       "      <td>4.80</td>\n",
       "      <td>Hotels and Inns Business Act | 渋谷区保健所長 | 31渋健生...</td>\n",
       "      <td>t</td>\n",
       "      <td>8</td>\n",
       "      <td>8</td>\n",
       "      <td>0</td>\n",
       "      <td>0</td>\n",
       "      <td>1.65</td>\n",
       "    </tr>\n",
       "    <tr>\n",
       "      <th>3</th>\n",
       "      <td>1016831</td>\n",
       "      <td>https://www.airbnb.com/rooms/1016831</td>\n",
       "      <td>20240927024131</td>\n",
       "      <td>2024-09-27</td>\n",
       "      <td>city scrape</td>\n",
       "      <td>5 mins Shibuya Cat modern sunny  Shimokita</td>\n",
       "      <td>Hi there, I am Wakana and I live with my two f...</td>\n",
       "      <td>The location is walkable distance to famous Sh...</td>\n",
       "      <td>https://a0.muscache.com/pictures/airflow/Hosti...</td>\n",
       "      <td>5596383</td>\n",
       "      <td>...</td>\n",
       "      <td>4.98</td>\n",
       "      <td>4.92</td>\n",
       "      <td>4.90</td>\n",
       "      <td>M130001107</td>\n",
       "      <td>f</td>\n",
       "      <td>1</td>\n",
       "      <td>0</td>\n",
       "      <td>1</td>\n",
       "      <td>0</td>\n",
       "      <td>1.92</td>\n",
       "    </tr>\n",
       "    <tr>\n",
       "      <th>4</th>\n",
       "      <td>1196177</td>\n",
       "      <td>https://www.airbnb.com/rooms/1196177</td>\n",
       "      <td>20240927024131</td>\n",
       "      <td>2024-09-27</td>\n",
       "      <td>city scrape</td>\n",
       "      <td>Stay with host Cozy private room Senju area</td>\n",
       "      <td>Ｓtay with host.We can help your travel.&lt;br /&gt;B...</td>\n",
       "      <td>There are shopping mall near Senjuohashi stati...</td>\n",
       "      <td>https://a0.muscache.com/pictures/72890882/05ec...</td>\n",
       "      <td>5686404</td>\n",
       "      <td>...</td>\n",
       "      <td>4.91</td>\n",
       "      <td>4.73</td>\n",
       "      <td>4.81</td>\n",
       "      <td>M130007760</td>\n",
       "      <td>f</td>\n",
       "      <td>1</td>\n",
       "      <td>0</td>\n",
       "      <td>1</td>\n",
       "      <td>0</td>\n",
       "      <td>0.92</td>\n",
       "    </tr>\n",
       "  </tbody>\n",
       "</table>\n",
       "<p>5 rows × 75 columns</p>\n",
       "</div>"
      ],
      "text/plain": [
       "        id                           listing_url       scrape_id last_scraped  \\\n",
       "0   197677   https://www.airbnb.com/rooms/197677  20240927024131   2024-09-27   \n",
       "1   776070   https://www.airbnb.com/rooms/776070  20240927024131   2024-09-27   \n",
       "2   905944   https://www.airbnb.com/rooms/905944  20240927024131   2024-09-27   \n",
       "3  1016831  https://www.airbnb.com/rooms/1016831  20240927024131   2024-09-27   \n",
       "4  1196177  https://www.airbnb.com/rooms/1196177  20240927024131   2024-09-27   \n",
       "\n",
       "        source                                               name  \\\n",
       "0  city scrape                          Oshiage Holiday Apartment   \n",
       "1  city scrape                             Kero-kero house room 1   \n",
       "2  city scrape  4F Spacious Apartment in Shinjuku / Shibuya Tokyo   \n",
       "3  city scrape         5 mins Shibuya Cat modern sunny  Shimokita   \n",
       "4  city scrape        Stay with host Cozy private room Senju area   \n",
       "\n",
       "                                         description  \\\n",
       "0                                                NaN   \n",
       "1  We have been in airbnb since 2011 and it has g...   \n",
       "2  NEWLY RENOVATED property entirely for you & yo...   \n",
       "3  Hi there, I am Wakana and I live with my two f...   \n",
       "4  Ｓtay with host.We can help your travel.<br />B...   \n",
       "\n",
       "                               neighborhood_overview  \\\n",
       "0                                                NaN   \n",
       "1  We love Nishinippori because is nearer to Toky...   \n",
       "2  Hatagaya is a great neighborhood located 4 min...   \n",
       "3  The location is walkable distance to famous Sh...   \n",
       "4  There are shopping mall near Senjuohashi stati...   \n",
       "\n",
       "                                         picture_url  host_id  ...  \\\n",
       "0  https://a0.muscache.com/pictures/38437056/d27f...   964081  ...   \n",
       "1  https://a0.muscache.com/pictures/efd9f039-dbd2...   801494  ...   \n",
       "2  https://a0.muscache.com/pictures/miso/Hosting-...  4847803  ...   \n",
       "3  https://a0.muscache.com/pictures/airflow/Hosti...  5596383  ...   \n",
       "4  https://a0.muscache.com/pictures/72890882/05ec...  5686404  ...   \n",
       "\n",
       "  review_scores_communication review_scores_location review_scores_value  \\\n",
       "0                        4.83                   4.55                4.80   \n",
       "1                        4.98                   4.84                4.92   \n",
       "2                        4.92                   4.80                4.80   \n",
       "3                        4.98                   4.92                4.90   \n",
       "4                        4.91                   4.73                4.81   \n",
       "\n",
       "                                             license instant_bookable  \\\n",
       "0                                         M130003350                f   \n",
       "1                                         M130000243                f   \n",
       "2  Hotels and Inns Business Act | 渋谷区保健所長 | 31渋健生...                t   \n",
       "3                                         M130001107                f   \n",
       "4                                         M130007760                f   \n",
       "\n",
       "  calculated_host_listings_count calculated_host_listings_count_entire_homes  \\\n",
       "0                              1                                           1   \n",
       "1                              1                                           0   \n",
       "2                              8                                           8   \n",
       "3                              1                                           0   \n",
       "4                              1                                           0   \n",
       "\n",
       "  calculated_host_listings_count_private_rooms  \\\n",
       "0                                            0   \n",
       "1                                            1   \n",
       "2                                            0   \n",
       "3                                            1   \n",
       "4                                            1   \n",
       "\n",
       "  calculated_host_listings_count_shared_rooms reviews_per_month  \n",
       "0                                           0              1.14  \n",
       "1                                           0              1.79  \n",
       "2                                           0              1.65  \n",
       "3                                           0              1.92  \n",
       "4                                           0              0.92  \n",
       "\n",
       "[5 rows x 75 columns]"
      ]
     },
     "execution_count": 2,
     "metadata": {},
     "output_type": "execute_result"
    }
   ],
   "source": [
    "data = pd.read_csv('Tokyo.csv')\n",
    "data.head(5)"
   ]
  },
  {
   "cell_type": "code",
   "execution_count": null,
   "metadata": {},
   "outputs": [],
   "source": [
    "#Identificar valores nulos por columna\n",
    "# Configurar pandas para mostrar todas las filas\n",
    "pd.set_option('display.max_rows', None)\n",
    "\n",
    "# Calcular valores nulos y mostrar todas las filas\n",
    "valores_nulos = data.isnull().sum()\n",
    "valores_nulos\n",
    "#Creamos un archivo csv para ver todas las columnas que tengan valores nulos\n",
    "valores_nulos.to_csv('valores_nulos_completo.csv', index=True)\n"
   ]
  },
  {
   "cell_type": "code",
   "execution_count": 11,
   "metadata": {},
   "outputs": [],
   "source": [
    "#Realizamos una copia del dataframe\n",
    "data2=data.copy()"
   ]
  },
  {
   "cell_type": "code",
   "execution_count": 14,
   "metadata": {},
   "outputs": [
    {
     "data": {
      "text/plain": [
       "np.int64(108524)"
      ]
     },
     "execution_count": 14,
     "metadata": {},
     "output_type": "execute_result"
    }
   ],
   "source": [
    "valores_nulos = data.isnull().sum().sum()\n",
    "valores_nulos"
   ]
  },
  {
   "cell_type": "code",
   "execution_count": 15,
   "metadata": {},
   "outputs": [
    {
     "data": {
      "text/plain": [
       "np.int64(108524)"
      ]
     },
     "execution_count": 15,
     "metadata": {},
     "output_type": "execute_result"
    }
   ],
   "source": [
    "#Cuerta método de sustitucion de valores nulos\n",
    "#Sustituir valores nulos por string en concreto DE LA VARIABLE \"description\"\n",
    "data2[\"description\"]= data2[\"description\"].fillna(\"Description\")\n",
    "data2.to_csv(\"description.csv\")"
   ]
  },
  {
   "cell_type": "code",
   "execution_count": 16,
   "metadata": {},
   "outputs": [
    {
     "data": {
      "text/plain": [
       "np.int64(108159)"
      ]
     },
     "execution_count": 16,
     "metadata": {},
     "output_type": "execute_result"
    }
   ],
   "source": [
    "valores_nulos = data2.isnull().sum().sum()\n",
    "valores_nulos"
   ]
  },
  {
   "cell_type": "code",
   "execution_count": 17,
   "metadata": {},
   "outputs": [],
   "source": [
    "#Cuerta método de sustitucion de valores nulos\n",
    "#Sustituir valores nulos por string en concreto DE LA VARIABLE \"neighborhood_overview\"\n",
    "data2[\"neighborhood_overview\"]= data2[\"neighborhood_overview\"].fillna(\"Neighborhood Overview\")\n",
    "data2.to_csv(\"neighborhood_overview.csv\")"
   ]
  },
  {
   "cell_type": "code",
   "execution_count": 18,
   "metadata": {},
   "outputs": [
    {
     "data": {
      "text/plain": [
       "np.int64(101105)"
      ]
     },
     "execution_count": 18,
     "metadata": {},
     "output_type": "execute_result"
    }
   ],
   "source": [
    "valores_nulos = data2.isnull().sum().sum()\n",
    "valores_nulos"
   ]
  },
  {
   "cell_type": "code",
   "execution_count": 19,
   "metadata": {},
   "outputs": [],
   "source": [
    "#Cuerta método de sustitucion de valores nulos\n",
    "#Sustituir valores nulos por string en concreto DE LA VARIABLE \"host_location\"\n",
    "data2[\"host_location\"]= data2[\"host_location\"].fillna(\"Host Location\")\n",
    "data2.to_csv(\"host_location.csv\")"
   ]
  },
  {
   "cell_type": "code",
   "execution_count": 20,
   "metadata": {},
   "outputs": [
    {
     "data": {
      "text/plain": [
       "np.int64(95676)"
      ]
     },
     "execution_count": 20,
     "metadata": {},
     "output_type": "execute_result"
    }
   ],
   "source": [
    "valores_nulos = data2.isnull().sum().sum()\n",
    "valores_nulos"
   ]
  },
  {
   "cell_type": "code",
   "execution_count": 21,
   "metadata": {},
   "outputs": [],
   "source": [
    "#Cuerta método de sustitucion de valores nulos\n",
    "#Sustituir valores nulos por string en concreto DE LA VARIABLE \"host_about\"\n",
    "data2[\"host_about\"]= data2[\"host_about\"].fillna(\"Hello let's enjoying trip and local life!\")\n",
    "data2.to_csv(\"host_about.csv\")"
   ]
  },
  {
   "cell_type": "code",
   "execution_count": 22,
   "metadata": {},
   "outputs": [
    {
     "data": {
      "text/plain": [
       "np.int64(89815)"
      ]
     },
     "execution_count": 22,
     "metadata": {},
     "output_type": "execute_result"
    }
   ],
   "source": [
    "valores_nulos = data2.isnull().sum().sum()\n",
    "valores_nulos"
   ]
  },
  {
   "cell_type": "code",
   "execution_count": 23,
   "metadata": {},
   "outputs": [
    {
     "name": "stderr",
     "output_type": "stream",
     "text": [
      "C:\\Users\\carli\\AppData\\Local\\Temp\\ipykernel_1896\\2732226174.py:3: FutureWarning: Series.fillna with 'method' is deprecated and will raise in a future version. Use obj.ffill() or obj.bfill() instead.\n",
      "  data2[\"host_response_time\"]= data2[\"host_response_time\"].fillna(method=\"bfill\")\n"
     ]
    }
   ],
   "source": [
    "#Eliminamos valores nulos de otros_medios\n",
    "#Sustituir valores nulos con el valor no nulo más cercano siguiente.\n",
    "data2[\"host_response_time\"]= data2[\"host_response_time\"].fillna(method=\"bfill\")\n",
    "data2.to_csv(\"host_response_time.csv\")"
   ]
  },
  {
   "cell_type": "code",
   "execution_count": 24,
   "metadata": {},
   "outputs": [
    {
     "data": {
      "text/plain": [
       "np.int64(89202)"
      ]
     },
     "execution_count": 24,
     "metadata": {},
     "output_type": "execute_result"
    }
   ],
   "source": [
    "valores_nulos = data2.isnull().sum().sum()\n",
    "valores_nulos"
   ]
  },
  {
   "cell_type": "code",
   "execution_count": 25,
   "metadata": {},
   "outputs": [
    {
     "name": "stderr",
     "output_type": "stream",
     "text": [
      "C:\\Users\\carli\\AppData\\Local\\Temp\\ipykernel_1896\\2084874460.py:3: FutureWarning: Series.fillna with 'method' is deprecated and will raise in a future version. Use obj.ffill() or obj.bfill() instead.\n",
      "  data2[\"host_response_rate\"]= data2[\"host_response_rate\"].fillna(method=\"ffill\")\n"
     ]
    }
   ],
   "source": [
    "#Eliminamos valores nulos de otros_medios\n",
    "#Sustituir valores nulos con el valor no nulo más cercano anterior.\n",
    "data2[\"host_response_rate\"]= data2[\"host_response_rate\"].fillna(method=\"ffill\")\n",
    "data2.to_csv(\"host_response_rate.csv\")"
   ]
  },
  {
   "cell_type": "code",
   "execution_count": 26,
   "metadata": {},
   "outputs": [
    {
     "data": {
      "text/plain": [
       "np.int64(88589)"
      ]
     },
     "execution_count": 26,
     "metadata": {},
     "output_type": "execute_result"
    }
   ],
   "source": [
    "valores_nulos = data2.isnull().sum().sum()\n",
    "valores_nulos"
   ]
  },
  {
   "cell_type": "code",
   "execution_count": 27,
   "metadata": {},
   "outputs": [
    {
     "name": "stderr",
     "output_type": "stream",
     "text": [
      "C:\\Users\\carli\\AppData\\Local\\Temp\\ipykernel_1896\\4164662117.py:3: FutureWarning: Series.fillna with 'method' is deprecated and will raise in a future version. Use obj.ffill() or obj.bfill() instead.\n",
      "  data2[\"host_acceptance_rate\"]= data2[\"host_acceptance_rate\"].fillna(method=\"ffill\")\n"
     ]
    }
   ],
   "source": [
    "#Eliminamos valores nulos de otros_medios\n",
    "#Sustituir valores nulos con el valor no nulo más cercano anterior.\n",
    "data2[\"host_acceptance_rate\"]= data2[\"host_acceptance_rate\"].fillna(method=\"ffill\")\n",
    "data2.to_csv(\"host_acceptance_rate.csv\")"
   ]
  },
  {
   "cell_type": "code",
   "execution_count": 28,
   "metadata": {},
   "outputs": [
    {
     "data": {
      "text/plain": [
       "np.int64(88149)"
      ]
     },
     "execution_count": 28,
     "metadata": {},
     "output_type": "execute_result"
    }
   ],
   "source": [
    "valores_nulos = data2.isnull().sum().sum()\n",
    "valores_nulos"
   ]
  },
  {
   "cell_type": "code",
   "execution_count": 29,
   "metadata": {},
   "outputs": [],
   "source": [
    "#Cuerta método de sustitucion de valores nulos\n",
    "#Sustituir valores nulos por string en concreto DE LA VARIABLE \"host_is_superhost\"\n",
    "data2[\"host_is_superhost\"]= data2[\"host_is_superhost\"].fillna(\"f\")\n",
    "data2.to_csv(\"host_is_superhost.csv\")"
   ]
  },
  {
   "cell_type": "code",
   "execution_count": 30,
   "metadata": {},
   "outputs": [
    {
     "data": {
      "text/plain": [
       "np.int64(86733)"
      ]
     },
     "execution_count": 30,
     "metadata": {},
     "output_type": "execute_result"
    }
   ],
   "source": [
    "valores_nulos = data2.isnull().sum().sum()\n",
    "valores_nulos"
   ]
  },
  {
   "cell_type": "code",
   "execution_count": 89,
   "metadata": {},
   "outputs": [],
   "source": [
    "#Cuerta método de sustitucion de valores nulos\n",
    "#Sustituir valores nulos por string en concreto DE LA VARIABLE \"host_neighbourhood\"\n",
    "data2[\"host_neighbourhood\"]= data2[\"host_neighbourhood\"].fillna(\"Host Neighbourhood\")\n",
    "data2.to_csv(\"host_neighbourhood.csv\")"
   ]
  },
  {
   "cell_type": "code",
   "execution_count": 90,
   "metadata": {},
   "outputs": [
    {
     "data": {
      "text/plain": [
       "np.int64(0)"
      ]
     },
     "execution_count": 90,
     "metadata": {},
     "output_type": "execute_result"
    }
   ],
   "source": [
    "valores_nulos = data2.isnull().sum().sum()\n",
    "valores_nulos"
   ]
  },
  {
   "cell_type": "code",
   "execution_count": 33,
   "metadata": {},
   "outputs": [],
   "source": [
    "#Cuerta método de sustitucion de valores nulos\n",
    "#Sustituir valores nulos por string en concreto DE LA VARIABLE \"neighbourhood\"\n",
    "data2[\"neighbourhood\"]= data2[\"neighbourhood\"].fillna(\"Neighbourhood\")\n",
    "data2.to_csv(\"neighbourhood.csv\")"
   ]
  },
  {
   "cell_type": "code",
   "execution_count": 34,
   "metadata": {},
   "outputs": [
    {
     "data": {
      "text/plain": [
       "np.int64(67591)"
      ]
     },
     "execution_count": 34,
     "metadata": {},
     "output_type": "execute_result"
    }
   ],
   "source": [
    "valores_nulos = data2.isnull().sum().sum()\n",
    "valores_nulos"
   ]
  },
  {
   "cell_type": "code",
   "execution_count": 35,
   "metadata": {},
   "outputs": [],
   "source": [
    "#Cuerta método de sustitucion de valores nulos\n",
    "#Sustituir valores nulos por string en concreto DE LA VARIABLE \"neighbourhood_group_cleansed\"\n",
    "data2[\"neighbourhood_group_cleansed\"]= data2[\"neighbourhood_group_cleansed\"].fillna(\"neighbourhoodGC\")\n",
    "data2.to_csv(\"neighbourhoodGC.csv\")"
   ]
  },
  {
   "cell_type": "code",
   "execution_count": 36,
   "metadata": {},
   "outputs": [
    {
     "data": {
      "text/plain": [
       "np.int64(48855)"
      ]
     },
     "execution_count": 36,
     "metadata": {},
     "output_type": "execute_result"
    }
   ],
   "source": [
    "valores_nulos = data2.isnull().sum().sum()\n",
    "valores_nulos"
   ]
  },
  {
   "cell_type": "code",
   "execution_count": 37,
   "metadata": {},
   "outputs": [],
   "source": [
    "#Eliminamos valores nulos de bathrooms\n",
    "#Sustituir valores nulos con media para bathrooms\n",
    "data2[\"bathrooms\"]=data2[\"bathrooms\"].fillna(round(data[\"bathrooms\"].median()))\n",
    "data2.to_csv(\"bathrooms.csv\")"
   ]
  },
  {
   "cell_type": "code",
   "execution_count": 38,
   "metadata": {},
   "outputs": [
    {
     "data": {
      "text/plain": [
       "np.int64(47031)"
      ]
     },
     "execution_count": 38,
     "metadata": {},
     "output_type": "execute_result"
    }
   ],
   "source": [
    "valores_nulos = data2.isnull().sum().sum()\n",
    "valores_nulos"
   ]
  },
  {
   "cell_type": "code",
   "execution_count": 39,
   "metadata": {},
   "outputs": [],
   "source": [
    "#Cuerta método de sustitucion de valores nulos\n",
    "#Sustituir valores nulos por string en concreto DE LA VARIABLE \"bathrooms_text\"\n",
    "data2[\"bathrooms_text\"]= data2[\"bathrooms_text\"].fillna(\"Bathrooms Text\")\n",
    "data2.to_csv(\"bathrooms_text.csv\")"
   ]
  },
  {
   "cell_type": "code",
   "execution_count": 40,
   "metadata": {},
   "outputs": [
    {
     "data": {
      "text/plain": [
       "np.int64(47002)"
      ]
     },
     "execution_count": 40,
     "metadata": {},
     "output_type": "execute_result"
    }
   ],
   "source": [
    "valores_nulos = data2.isnull().sum().sum()\n",
    "valores_nulos"
   ]
  },
  {
   "cell_type": "code",
   "execution_count": 41,
   "metadata": {},
   "outputs": [],
   "source": [
    "#Eliminamos valores nulos de bedrooms\n",
    "#Sustituir valores nulos con media para bedrooms\n",
    "data2[\"bedrooms\"]=data2[\"bedrooms\"].fillna(round(data[\"bedrooms\"].median()))\n",
    "data2.to_csv(\"bedrooms.csv\")"
   ]
  },
  {
   "cell_type": "code",
   "execution_count": 42,
   "metadata": {},
   "outputs": [
    {
     "data": {
      "text/plain": [
       "np.int64(46720)"
      ]
     },
     "execution_count": 42,
     "metadata": {},
     "output_type": "execute_result"
    }
   ],
   "source": [
    "valores_nulos = data2.isnull().sum().sum()\n",
    "valores_nulos"
   ]
  },
  {
   "cell_type": "code",
   "execution_count": 43,
   "metadata": {},
   "outputs": [
    {
     "name": "stderr",
     "output_type": "stream",
     "text": [
      "C:\\Users\\carli\\AppData\\Local\\Temp\\ipykernel_1896\\220963042.py:3: FutureWarning: Series.fillna with 'method' is deprecated and will raise in a future version. Use obj.ffill() or obj.bfill() instead.\n",
      "  data2[\"beds\"]= data2[\"beds\"].fillna(method=\"ffill\")\n"
     ]
    }
   ],
   "source": [
    "#Eliminamos valores nulos de otros_medios\n",
    "#Sustituir valores nulos con el valor no nulo más cercano anterior.\n",
    "data2[\"beds\"]= data2[\"beds\"].fillna(method=\"ffill\")\n",
    "data2.to_csv(\"beds.csv\")"
   ]
  },
  {
   "cell_type": "code",
   "execution_count": 44,
   "metadata": {},
   "outputs": [
    {
     "data": {
      "text/plain": [
       "np.int64(44888)"
      ]
     },
     "execution_count": 44,
     "metadata": {},
     "output_type": "execute_result"
    }
   ],
   "source": [
    "valores_nulos = data2.isnull().sum().sum()\n",
    "valores_nulos"
   ]
  },
  {
   "cell_type": "code",
   "execution_count": 46,
   "metadata": {},
   "outputs": [
    {
     "name": "stderr",
     "output_type": "stream",
     "text": [
      "C:\\Users\\carli\\AppData\\Local\\Temp\\ipykernel_1896\\2894815571.py:3: FutureWarning: Series.fillna with 'method' is deprecated and will raise in a future version. Use obj.ffill() or obj.bfill() instead.\n",
      "  data2[\"price\"]= data2[\"price\"].fillna(method=\"ffill\")\n"
     ]
    }
   ],
   "source": [
    "#Eliminamos valores nulos de otros_medios\n",
    "#Sustituir valores nulos con el valor no nulo más cercano anterior.\n",
    "data2[\"price\"]= data2[\"price\"].fillna(method=\"ffill\")\n",
    "data2.to_csv(\"price.csv\")"
   ]
  },
  {
   "cell_type": "code",
   "execution_count": 47,
   "metadata": {},
   "outputs": [
    {
     "data": {
      "text/plain": [
       "np.int64(43056)"
      ]
     },
     "execution_count": 47,
     "metadata": {},
     "output_type": "execute_result"
    }
   ],
   "source": [
    "valores_nulos = data2.isnull().sum().sum()\n",
    "valores_nulos"
   ]
  },
  {
   "cell_type": "code",
   "execution_count": 48,
   "metadata": {},
   "outputs": [],
   "source": [
    "#Eliminamos valores nulos de minimum_minimum_nights \n",
    "#Sustituir valores nulos con promedio para minimum_minimum_nights\n",
    "data2[\"minimum_minimum_nights\"]=data2[\"minimum_minimum_nights\"].fillna(round(data[\"minimum_minimum_nights\"].mean()))\n",
    "data2.to_csv(\"minimum_minimum_nights.csv\")"
   ]
  },
  {
   "cell_type": "code",
   "execution_count": 49,
   "metadata": {},
   "outputs": [
    {
     "data": {
      "text/plain": [
       "np.int64(43035)"
      ]
     },
     "execution_count": 49,
     "metadata": {},
     "output_type": "execute_result"
    }
   ],
   "source": [
    "valores_nulos = data2.isnull().sum().sum()\n",
    "valores_nulos"
   ]
  },
  {
   "cell_type": "code",
   "execution_count": 50,
   "metadata": {},
   "outputs": [],
   "source": [
    "#Eliminamos valores nulos de maximum_minimum_nights \n",
    "#Sustituir valores nulos con promedio para maximum_minimum_nights\n",
    "data2[\"maximum_minimum_nights\"]=data2[\"maximum_minimum_nights\"].fillna(round(data[\"maximum_minimum_nights\"].mean()))\n",
    "data2.to_csv(\"maximum_minimum_nights.csv\")"
   ]
  },
  {
   "cell_type": "code",
   "execution_count": 51,
   "metadata": {},
   "outputs": [
    {
     "data": {
      "text/plain": [
       "np.int64(43014)"
      ]
     },
     "execution_count": 51,
     "metadata": {},
     "output_type": "execute_result"
    }
   ],
   "source": [
    "valores_nulos = data2.isnull().sum().sum()\n",
    "valores_nulos"
   ]
  },
  {
   "cell_type": "code",
   "execution_count": 52,
   "metadata": {},
   "outputs": [],
   "source": [
    "#Eliminamos valores nulos de minimum_maximum_nights \n",
    "#Sustituir valores nulos con promedio para minimum_maximum_nights\n",
    "data2[\"minimum_maximum_nights\"]=data2[\"minimum_maximum_nights\"].fillna(round(data[\"minimum_maximum_nights\"].mean()))\n",
    "data2.to_csv(\"minimum_maximum_nights.csv\")"
   ]
  },
  {
   "cell_type": "code",
   "execution_count": 53,
   "metadata": {},
   "outputs": [
    {
     "data": {
      "text/plain": [
       "np.int64(42993)"
      ]
     },
     "execution_count": 53,
     "metadata": {},
     "output_type": "execute_result"
    }
   ],
   "source": [
    "valores_nulos = data2.isnull().sum().sum()\n",
    "valores_nulos"
   ]
  },
  {
   "cell_type": "code",
   "execution_count": 54,
   "metadata": {},
   "outputs": [],
   "source": [
    "#Eliminamos valores nulos de maximum_maximum_nights \n",
    "#Sustituir valores nulos con promedio para maximum_maximum_nights\n",
    "data2[\"maximum_maximum_nights\"]=data2[\"maximum_maximum_nights\"].fillna(round(data[\"maximum_maximum_nights\"].mean()))\n",
    "data2.to_csv(\"maximum_maximum_nights.csv\")"
   ]
  },
  {
   "cell_type": "code",
   "execution_count": 55,
   "metadata": {},
   "outputs": [
    {
     "data": {
      "text/plain": [
       "np.int64(42972)"
      ]
     },
     "execution_count": 55,
     "metadata": {},
     "output_type": "execute_result"
    }
   ],
   "source": [
    "valores_nulos = data2.isnull().sum().sum()\n",
    "valores_nulos"
   ]
  },
  {
   "cell_type": "code",
   "execution_count": 56,
   "metadata": {},
   "outputs": [],
   "source": [
    "#Eliminamos valores nulos de minimum_nights_avg_ntm \n",
    "#Sustituir valores nulos con promedio para minimum_nights_avg_ntm\n",
    "data2[\"minimum_nights_avg_ntm\"]=data2[\"minimum_nights_avg_ntm\"].fillna(round(data[\"minimum_nights_avg_ntm\"].mean()))\n",
    "data2.to_csv(\"minimum_nights_avg_ntm.csv\")"
   ]
  },
  {
   "cell_type": "code",
   "execution_count": 57,
   "metadata": {},
   "outputs": [
    {
     "data": {
      "text/plain": [
       "np.int64(42951)"
      ]
     },
     "execution_count": 57,
     "metadata": {},
     "output_type": "execute_result"
    }
   ],
   "source": [
    "valores_nulos = data2.isnull().sum().sum()\n",
    "valores_nulos"
   ]
  },
  {
   "cell_type": "code",
   "execution_count": 58,
   "metadata": {},
   "outputs": [],
   "source": [
    "#Eliminamos valores nulos de maximum_nights_avg_ntm \n",
    "#Sustituir valores nulos con promedio para maximum_nights_avg_ntm\n",
    "data2[\"maximum_nights_avg_ntm\"]=data2[\"maximum_nights_avg_ntm\"].fillna(round(data[\"maximum_nights_avg_ntm\"].mean()))\n",
    "data2.to_csv(\"maximum_nights_avg_ntm.csv\")"
   ]
  },
  {
   "cell_type": "code",
   "execution_count": 59,
   "metadata": {},
   "outputs": [
    {
     "data": {
      "text/plain": [
       "np.int64(42930)"
      ]
     },
     "execution_count": 59,
     "metadata": {},
     "output_type": "execute_result"
    }
   ],
   "source": [
    "valores_nulos = data2.isnull().sum().sum()\n",
    "valores_nulos"
   ]
  },
  {
   "cell_type": "code",
   "execution_count": 60,
   "metadata": {},
   "outputs": [],
   "source": [
    "#Cuerta método de sustitucion de valores nulos\n",
    "#Sustituir valores nulos por string en concreto DE LA VARIABLE \"calendar_updated\"\n",
    "data2[\"calendar_updated\"]= data2[\"calendar_updated\"].fillna(\" Calendar Updated\")\n",
    "data2.to_csv(\"calendar_updated.csv\")"
   ]
  },
  {
   "cell_type": "code",
   "execution_count": 61,
   "metadata": {},
   "outputs": [
    {
     "data": {
      "text/plain": [
       "np.int64(24194)"
      ]
     },
     "execution_count": 61,
     "metadata": {},
     "output_type": "execute_result"
    }
   ],
   "source": [
    "valores_nulos = data2.isnull().sum().sum()\n",
    "valores_nulos"
   ]
  },
  {
   "cell_type": "code",
   "execution_count": 62,
   "metadata": {},
   "outputs": [],
   "source": [
    "#Cuerta método de sustitucion de valores nulos\n",
    "#Sustituir valores nulos por string en concreto DE LA VARIABLE \"has_availability\"\n",
    "data2[\"has_availability\"]= data2[\"has_availability\"].fillna(\"f\")\n",
    "data2.to_csv(\"has_availability.csv\")"
   ]
  },
  {
   "cell_type": "code",
   "execution_count": 63,
   "metadata": {},
   "outputs": [
    {
     "data": {
      "text/plain": [
       "np.int64(24090)"
      ]
     },
     "execution_count": 63,
     "metadata": {},
     "output_type": "execute_result"
    }
   ],
   "source": [
    "valores_nulos = data2.isnull().sum().sum()\n",
    "valores_nulos"
   ]
  },
  {
   "cell_type": "code",
   "execution_count": 64,
   "metadata": {},
   "outputs": [],
   "source": [
    "#Cuerta método de sustitucion de valores nulos\n",
    "#Sustituir valores nulos por string en concreto DE LA VARIABLE \"first_review\"\n",
    "data2[\"first_review\"]= data2[\"first_review\"].fillna(\"2040-01-01\")\n",
    "data2.to_csv(\"first_review.csv\")"
   ]
  },
  {
   "cell_type": "code",
   "execution_count": 65,
   "metadata": {},
   "outputs": [
    {
     "data": {
      "text/plain": [
       "np.int64(21685)"
      ]
     },
     "execution_count": 65,
     "metadata": {},
     "output_type": "execute_result"
    }
   ],
   "source": [
    "valores_nulos = data2.isnull().sum().sum()\n",
    "valores_nulos"
   ]
  },
  {
   "cell_type": "code",
   "execution_count": 66,
   "metadata": {},
   "outputs": [],
   "source": [
    "#Cuerta método de sustitucion de valores nulos\n",
    "#Sustituir valores nulos por string en concreto DE LA VARIABLE \"last_review\"\n",
    "data2[\"last_review\"]= data2[\"last_review\"].fillna(\"2040-01-01\")\n",
    "data2.to_csv(\"last_review.csv\")"
   ]
  },
  {
   "cell_type": "code",
   "execution_count": 67,
   "metadata": {},
   "outputs": [
    {
     "data": {
      "text/plain": [
       "np.int64(19280)"
      ]
     },
     "execution_count": 67,
     "metadata": {},
     "output_type": "execute_result"
    }
   ],
   "source": [
    "valores_nulos = data2.isnull().sum().sum()\n",
    "valores_nulos"
   ]
  },
  {
   "cell_type": "code",
   "execution_count": 68,
   "metadata": {},
   "outputs": [],
   "source": [
    "#Eliminamos valores nulos de review_scores_rating \n",
    "#Sustituir valores nulos con promedio para review_scores_rating\n",
    "data2[\"review_scores_rating\"]=data2[\"review_scores_rating\"].fillna(round(data[\"review_scores_rating\"].mean()))\n",
    "data2.to_csv(\"review_scores_rating.csv\")"
   ]
  },
  {
   "cell_type": "code",
   "execution_count": 69,
   "metadata": {},
   "outputs": [
    {
     "data": {
      "text/plain": [
       "np.int64(16875)"
      ]
     },
     "execution_count": 69,
     "metadata": {},
     "output_type": "execute_result"
    }
   ],
   "source": [
    "valores_nulos = data2.isnull().sum().sum()\n",
    "valores_nulos"
   ]
  },
  {
   "cell_type": "code",
   "execution_count": 70,
   "metadata": {},
   "outputs": [],
   "source": [
    "#Eliminamos valores nulos de review_scores_accuracy \n",
    "#Sustituir valores nulos con promedio para review_scores_accuracy\n",
    "data2[\"review_scores_accuracy\"]=data2[\"review_scores_accuracy\"].fillna(round(data[\"review_scores_accuracy\"].median()))\n",
    "data2.to_csv(\"review_scores_accuracy.csv\")"
   ]
  },
  {
   "cell_type": "code",
   "execution_count": 71,
   "metadata": {},
   "outputs": [
    {
     "data": {
      "text/plain": [
       "np.int64(14469)"
      ]
     },
     "execution_count": 71,
     "metadata": {},
     "output_type": "execute_result"
    }
   ],
   "source": [
    "valores_nulos = data2.isnull().sum().sum()\n",
    "valores_nulos"
   ]
  },
  {
   "cell_type": "code",
   "execution_count": 72,
   "metadata": {},
   "outputs": [],
   "source": [
    "#Eliminamos valores nulos de review_scores_cleanliness \n",
    "#Sustituir valores nulos con promedio para review_scores_cleanliness\n",
    "data2[\"review_scores_cleanliness\"]=data2[\"review_scores_cleanliness\"].fillna(round(data[\"review_scores_cleanliness\"].mean()))\n",
    "data2.to_csv(\"review_scores_cleanliness.csv\")"
   ]
  },
  {
   "cell_type": "code",
   "execution_count": 73,
   "metadata": {},
   "outputs": [
    {
     "data": {
      "text/plain": [
       "np.int64(12063)"
      ]
     },
     "execution_count": 73,
     "metadata": {},
     "output_type": "execute_result"
    }
   ],
   "source": [
    "valores_nulos = data2.isnull().sum().sum()\n",
    "valores_nulos"
   ]
  },
  {
   "cell_type": "code",
   "execution_count": 74,
   "metadata": {},
   "outputs": [],
   "source": [
    "#Eliminamos valores nulos de review_scores_checkin \n",
    "#Sustituir valores nulos con promedio para review_scores_checkin\n",
    "data2[\"review_scores_checkin\"]=data2[\"review_scores_checkin\"].fillna(round(data[\"review_scores_checkin\"].median()))\n",
    "data2.to_csv(\"review_scores_checkin.csv\")"
   ]
  },
  {
   "cell_type": "code",
   "execution_count": 75,
   "metadata": {},
   "outputs": [
    {
     "data": {
      "text/plain": [
       "np.int64(9657)"
      ]
     },
     "execution_count": 75,
     "metadata": {},
     "output_type": "execute_result"
    }
   ],
   "source": [
    "valores_nulos = data2.isnull().sum().sum()\n",
    "valores_nulos"
   ]
  },
  {
   "cell_type": "code",
   "execution_count": 76,
   "metadata": {},
   "outputs": [],
   "source": [
    "#Eliminamos valores nulos de review_scores_communication \n",
    "#Sustituir valores nulos con promedio para review_scores_communication\n",
    "data2[\"review_scores_communication\"]=data2[\"review_scores_communication\"].fillna(round(data[\"review_scores_communication\"].median()))\n",
    "data2.to_csv(\"review_scores_communication.csv\")"
   ]
  },
  {
   "cell_type": "code",
   "execution_count": 77,
   "metadata": {},
   "outputs": [
    {
     "data": {
      "text/plain": [
       "np.int64(7251)"
      ]
     },
     "execution_count": 77,
     "metadata": {},
     "output_type": "execute_result"
    }
   ],
   "source": [
    "valores_nulos = data2.isnull().sum().sum()\n",
    "valores_nulos"
   ]
  },
  {
   "cell_type": "code",
   "execution_count": 78,
   "metadata": {},
   "outputs": [],
   "source": [
    "#Eliminamos valores nulos de review_scores_location \n",
    "#Sustituir valores nulos con promedio para review_scores_location\n",
    "data2[\"review_scores_location\"]=data2[\"review_scores_location\"].fillna(round(data[\"review_scores_location\"].median()))\n",
    "data2.to_csv(\"review_scores_location.csv\")"
   ]
  },
  {
   "cell_type": "code",
   "execution_count": 79,
   "metadata": {},
   "outputs": [
    {
     "data": {
      "text/plain": [
       "np.int64(4845)"
      ]
     },
     "execution_count": 79,
     "metadata": {},
     "output_type": "execute_result"
    }
   ],
   "source": [
    "valores_nulos = data2.isnull().sum().sum()\n",
    "valores_nulos"
   ]
  },
  {
   "cell_type": "code",
   "execution_count": 80,
   "metadata": {},
   "outputs": [],
   "source": [
    "#Eliminamos valores nulos de review_scores_value \n",
    "#Sustituir valores nulos con promedio para review_scores_value\n",
    "data2[\"review_scores_value\"]=data2[\"review_scores_value\"].fillna(round(data[\"review_scores_value\"].median()))\n",
    "data2.to_csv(\"review_scores_value.csv\")"
   ]
  },
  {
   "cell_type": "code",
   "execution_count": 81,
   "metadata": {},
   "outputs": [
    {
     "data": {
      "text/plain": [
       "np.int64(2439)"
      ]
     },
     "execution_count": 81,
     "metadata": {},
     "output_type": "execute_result"
    }
   ],
   "source": [
    "valores_nulos = data2.isnull().sum().sum()\n",
    "valores_nulos"
   ]
  },
  {
   "cell_type": "code",
   "execution_count": 82,
   "metadata": {},
   "outputs": [],
   "source": [
    "#Cuerta método de sustitucion de valores nulos\n",
    "#Sustituir valores nulos por string en concreto DE LA VARIABLE \"license\"\n",
    "data2[\"license\"]= data2[\"license\"].fillna(\"license\")\n",
    "data2.to_csv(\"license.csv\")"
   ]
  },
  {
   "cell_type": "code",
   "execution_count": 83,
   "metadata": {},
   "outputs": [
    {
     "data": {
      "text/plain": [
       "np.int64(2420)"
      ]
     },
     "execution_count": 83,
     "metadata": {},
     "output_type": "execute_result"
    }
   ],
   "source": [
    "valores_nulos = data2.isnull().sum().sum()\n",
    "valores_nulos"
   ]
  },
  {
   "cell_type": "code",
   "execution_count": 84,
   "metadata": {},
   "outputs": [],
   "source": [
    "#Eliminamos valores nulos de reviews_per_month \n",
    "#Sustituir valores nulos con promedio para reviews_per_month, con 2 decimales\n",
    "data2[\"reviews_per_month\"]=data2[\"reviews_per_month\"].fillna(round(data[\"reviews_per_month\"].mean(),2))\n",
    "data2.to_csv(\"reviews_per_month.csv\")"
   ]
  },
  {
   "cell_type": "code",
   "execution_count": 85,
   "metadata": {},
   "outputs": [
    {
     "data": {
      "text/plain": [
       "np.int64(15)"
      ]
     },
     "execution_count": 85,
     "metadata": {},
     "output_type": "execute_result"
    }
   ],
   "source": [
    "valores_nulos = data2.isnull().sum().sum()\n",
    "valores_nulos"
   ]
  },
  {
   "cell_type": "code",
   "execution_count": 87,
   "metadata": {},
   "outputs": [],
   "source": [
    "#Identificar valores nulos por columna\n",
    "# Configurar pandas para mostrar todas las filas\n",
    "pd.set_option('display.max_rows', None)\n",
    "\n",
    "# Calcular valores nulos y mostrar todas las filas\n",
    "valores_nulos = data2.isnull().sum()\n",
    "valores_nulos\n",
    "#Creamos un archivo csv para ver todas las columnas que tengan valores nulos\n",
    "valores_nulos.to_csv('VN.csv', index=True)\n"
   ]
  },
  {
   "cell_type": "code",
   "execution_count": null,
   "metadata": {},
   "outputs": [],
   "source": [
    "valores_nulos = data2.isnull().sum().sum()\n",
    "valores_nulos"
   ]
  },
  {
   "cell_type": "code",
   "execution_count": null,
   "metadata": {},
   "outputs": [],
   "source": []
  }
 ],
 "metadata": {
  "kernelspec": {
   "display_name": "Python 3",
   "language": "python",
   "name": "python3"
  },
  "language_info": {
   "codemirror_mode": {
    "name": "ipython",
    "version": 3
   },
   "file_extension": ".py",
   "mimetype": "text/x-python",
   "name": "python",
   "nbconvert_exporter": "python",
   "pygments_lexer": "ipython3",
   "version": "3.10.10"
  }
 },
 "nbformat": 4,
 "nbformat_minor": 2
}
